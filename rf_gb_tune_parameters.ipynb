{
 "cells": [
  {
   "cell_type": "code",
   "execution_count": 1,
   "metadata": {
    "collapsed": false
   },
   "outputs": [
    {
     "name": "stderr",
     "output_type": "stream",
     "text": [
      "//anaconda/lib/python2.7/site-packages/matplotlib/font_manager.py:273: UserWarning: Matplotlib is building the font cache using fc-list. This may take a moment.\n",
      "  warnings.warn('Matplotlib is building the font cache using fc-list. This may take a moment.')\n"
     ]
    },
    {
     "name": "stdout",
     "output_type": "stream",
     "text": [
      "Populating the interactive namespace from numpy and matplotlib\n"
     ]
    }
   ],
   "source": [
    "%pylab inline\n",
    "import pandas as pd\n",
    "import numpy as np\n",
    "import matplotlib.pyplot as plt\n",
    "import seaborn as sns"
   ]
  },
  {
   "cell_type": "code",
   "execution_count": 2,
   "metadata": {
    "collapsed": true
   },
   "outputs": [],
   "source": [
    "colNames = ['id', 'date', 'price', 'bedrooms', 'bathrooms', 'sqft_living', 'sqft_lot', 'floors', 'waterfront', 'view',\n",
    "            'condition', 'grade', 'sqft_above', 'sqft_basement', 'yr_built', 'yr_renovated', 'zipcode', 'lat', 'long',\n",
    "           'sqft_living15', 'sqft_lot15']\n",
    "data = pd.read_csv(\"./kc_house_data.csv\", names=colNames, header=0)"
   ]
  },
  {
   "cell_type": "code",
   "execution_count": 3,
   "metadata": {
    "collapsed": false
   },
   "outputs": [
    {
     "data": {
      "text/html": [
       "<div>\n",
       "<table border=\"1\" class=\"dataframe\">\n",
       "  <thead>\n",
       "    <tr style=\"text-align: right;\">\n",
       "      <th></th>\n",
       "      <th>id</th>\n",
       "      <th>date</th>\n",
       "      <th>price</th>\n",
       "      <th>bedrooms</th>\n",
       "      <th>bathrooms</th>\n",
       "      <th>sqft_living</th>\n",
       "      <th>sqft_lot</th>\n",
       "      <th>floors</th>\n",
       "      <th>waterfront</th>\n",
       "      <th>view</th>\n",
       "      <th>...</th>\n",
       "      <th>grade</th>\n",
       "      <th>sqft_above</th>\n",
       "      <th>sqft_basement</th>\n",
       "      <th>yr_built</th>\n",
       "      <th>yr_renovated</th>\n",
       "      <th>zipcode</th>\n",
       "      <th>lat</th>\n",
       "      <th>long</th>\n",
       "      <th>sqft_living15</th>\n",
       "      <th>sqft_lot15</th>\n",
       "    </tr>\n",
       "  </thead>\n",
       "  <tbody>\n",
       "    <tr>\n",
       "      <th>0</th>\n",
       "      <td>7129300520</td>\n",
       "      <td>20141013T000000</td>\n",
       "      <td>221900.0</td>\n",
       "      <td>3</td>\n",
       "      <td>1.00</td>\n",
       "      <td>1180</td>\n",
       "      <td>5650</td>\n",
       "      <td>1.0</td>\n",
       "      <td>0</td>\n",
       "      <td>0</td>\n",
       "      <td>...</td>\n",
       "      <td>7</td>\n",
       "      <td>1180</td>\n",
       "      <td>0</td>\n",
       "      <td>1955</td>\n",
       "      <td>1955</td>\n",
       "      <td>98178</td>\n",
       "      <td>47.5112</td>\n",
       "      <td>-122.257</td>\n",
       "      <td>1340</td>\n",
       "      <td>5650</td>\n",
       "    </tr>\n",
       "    <tr>\n",
       "      <th>1</th>\n",
       "      <td>6414100192</td>\n",
       "      <td>20141209T000000</td>\n",
       "      <td>538000.0</td>\n",
       "      <td>3</td>\n",
       "      <td>2.25</td>\n",
       "      <td>2570</td>\n",
       "      <td>7242</td>\n",
       "      <td>2.0</td>\n",
       "      <td>0</td>\n",
       "      <td>0</td>\n",
       "      <td>...</td>\n",
       "      <td>7</td>\n",
       "      <td>2170</td>\n",
       "      <td>400</td>\n",
       "      <td>1951</td>\n",
       "      <td>1991</td>\n",
       "      <td>98125</td>\n",
       "      <td>47.7210</td>\n",
       "      <td>-122.319</td>\n",
       "      <td>1690</td>\n",
       "      <td>7639</td>\n",
       "    </tr>\n",
       "    <tr>\n",
       "      <th>2</th>\n",
       "      <td>5631500400</td>\n",
       "      <td>20150225T000000</td>\n",
       "      <td>180000.0</td>\n",
       "      <td>2</td>\n",
       "      <td>1.00</td>\n",
       "      <td>770</td>\n",
       "      <td>10000</td>\n",
       "      <td>1.0</td>\n",
       "      <td>0</td>\n",
       "      <td>0</td>\n",
       "      <td>...</td>\n",
       "      <td>6</td>\n",
       "      <td>770</td>\n",
       "      <td>0</td>\n",
       "      <td>1933</td>\n",
       "      <td>1933</td>\n",
       "      <td>98028</td>\n",
       "      <td>47.7379</td>\n",
       "      <td>-122.233</td>\n",
       "      <td>2720</td>\n",
       "      <td>8062</td>\n",
       "    </tr>\n",
       "    <tr>\n",
       "      <th>3</th>\n",
       "      <td>2487200875</td>\n",
       "      <td>20141209T000000</td>\n",
       "      <td>604000.0</td>\n",
       "      <td>4</td>\n",
       "      <td>3.00</td>\n",
       "      <td>1960</td>\n",
       "      <td>5000</td>\n",
       "      <td>1.0</td>\n",
       "      <td>0</td>\n",
       "      <td>0</td>\n",
       "      <td>...</td>\n",
       "      <td>7</td>\n",
       "      <td>1050</td>\n",
       "      <td>910</td>\n",
       "      <td>1965</td>\n",
       "      <td>1965</td>\n",
       "      <td>98136</td>\n",
       "      <td>47.5208</td>\n",
       "      <td>-122.393</td>\n",
       "      <td>1360</td>\n",
       "      <td>5000</td>\n",
       "    </tr>\n",
       "    <tr>\n",
       "      <th>4</th>\n",
       "      <td>1954400510</td>\n",
       "      <td>20150218T000000</td>\n",
       "      <td>510000.0</td>\n",
       "      <td>3</td>\n",
       "      <td>2.00</td>\n",
       "      <td>1680</td>\n",
       "      <td>8080</td>\n",
       "      <td>1.0</td>\n",
       "      <td>0</td>\n",
       "      <td>0</td>\n",
       "      <td>...</td>\n",
       "      <td>8</td>\n",
       "      <td>1680</td>\n",
       "      <td>0</td>\n",
       "      <td>1987</td>\n",
       "      <td>1987</td>\n",
       "      <td>98074</td>\n",
       "      <td>47.6168</td>\n",
       "      <td>-122.045</td>\n",
       "      <td>1800</td>\n",
       "      <td>7503</td>\n",
       "    </tr>\n",
       "  </tbody>\n",
       "</table>\n",
       "<p>5 rows × 21 columns</p>\n",
       "</div>"
      ],
      "text/plain": [
       "           id             date     price  bedrooms  bathrooms  sqft_living  \\\n",
       "0  7129300520  20141013T000000  221900.0         3       1.00         1180   \n",
       "1  6414100192  20141209T000000  538000.0         3       2.25         2570   \n",
       "2  5631500400  20150225T000000  180000.0         2       1.00          770   \n",
       "3  2487200875  20141209T000000  604000.0         4       3.00         1960   \n",
       "4  1954400510  20150218T000000  510000.0         3       2.00         1680   \n",
       "\n",
       "   sqft_lot  floors  waterfront  view     ...      grade  sqft_above  \\\n",
       "0      5650     1.0           0     0     ...          7        1180   \n",
       "1      7242     2.0           0     0     ...          7        2170   \n",
       "2     10000     1.0           0     0     ...          6         770   \n",
       "3      5000     1.0           0     0     ...          7        1050   \n",
       "4      8080     1.0           0     0     ...          8        1680   \n",
       "\n",
       "   sqft_basement  yr_built  yr_renovated  zipcode      lat     long  \\\n",
       "0              0      1955          1955    98178  47.5112 -122.257   \n",
       "1            400      1951          1991    98125  47.7210 -122.319   \n",
       "2              0      1933          1933    98028  47.7379 -122.233   \n",
       "3            910      1965          1965    98136  47.5208 -122.393   \n",
       "4              0      1987          1987    98074  47.6168 -122.045   \n",
       "\n",
       "   sqft_living15  sqft_lot15  \n",
       "0           1340        5650  \n",
       "1           1690        7639  \n",
       "2           2720        8062  \n",
       "3           1360        5000  \n",
       "4           1800        7503  \n",
       "\n",
       "[5 rows x 21 columns]"
      ]
     },
     "execution_count": 3,
     "metadata": {},
     "output_type": "execute_result"
    }
   ],
   "source": [
    "data.loc[data.yr_renovated == 0, 'yr_renovated'] = data['yr_built']\n",
    "data.head()"
   ]
  },
  {
   "cell_type": "code",
   "execution_count": 4,
   "metadata": {
    "collapsed": false
   },
   "outputs": [
    {
     "data": {
      "text/plain": [
       "price            1.000000\n",
       "sqft_living      0.702035\n",
       "grade            0.667434\n",
       "sqft_above       0.605567\n",
       "sqft_living15    0.585379\n",
       "bathrooms        0.525138\n",
       "view             0.397293\n",
       "sqft_basement    0.323816\n",
       "bedrooms         0.308350\n",
       "lat              0.307003\n",
       "waterfront       0.266369\n",
       "floors           0.256794\n",
       "yr_renovated     0.105755\n",
       "sqft_lot         0.089661\n",
       "sqft_lot15       0.082447\n",
       "yr_built         0.054012\n",
       "condition        0.036362\n",
       "long             0.021626\n",
       "id              -0.016762\n",
       "zipcode         -0.053203\n",
       "Name: price, dtype: float64"
      ]
     },
     "execution_count": 4,
     "metadata": {},
     "output_type": "execute_result"
    }
   ],
   "source": [
    "corrmat = data.corr()\n",
    "corrmat['price'].sort_values(ascending=False)"
   ]
  },
  {
   "cell_type": "code",
   "execution_count": 5,
   "metadata": {
    "collapsed": false
   },
   "outputs": [
    {
     "data": {
      "image/png": "[encoded data removed]",
      "text/plain": [
       "<matplotlib.figure.Figure at 0x10f058c10>"
      ]
     },
     "metadata": {},
     "output_type": "display_data"
    }
   ],
   "source": [
    "# Set up the matplotlib figure\n",
    "f, ax = plt.subplots(figsize=(12, 9))\n",
    "\n",
    "# Draw the heatmap using seaborn\n",
    "sns.heatmap(corrmat, vmax=.8, square=True);"
   ]
  },
  {
   "cell_type": "code",
   "execution_count": 6,
   "metadata": {
    "collapsed": true
   },
   "outputs": [],
   "source": [
    "features = ['price', 'bedrooms', 'bathrooms', 'sqft_living', 'sqft_lot', 'floors', 'waterfront', 'view',\n",
    "            'condition', 'grade', 'sqft_above', 'sqft_basement', 'yr_built', 'yr_renovated', 'zipcode', 'lat', 'long',\n",
    "           'sqft_living15', 'sqft_lot15']"
   ]
  },
  {
   "cell_type": "code",
   "execution_count": 7,
   "metadata": {
    "collapsed": true
   },
   "outputs": [],
   "source": [
    "mydata = data[features]"
   ]
  },
  {
   "cell_type": "code",
   "execution_count": 8,
   "metadata": {
    "collapsed": true
   },
   "outputs": [],
   "source": [
    "X = mydata.iloc[:, 1:]\n",
    "y = mydata.iloc[:, 0]"
   ]
  },
  {
   "cell_type": "code",
   "execution_count": 9,
   "metadata": {
    "collapsed": true
   },
   "outputs": [],
   "source": [
    "from sklearn.model_selection import train_test_split\n",
    "X_train, X_test, y_train, y_test = train_test_split(X, y, test_size=0.33, random_state=42)"
   ]
  },
  {
   "cell_type": "code",
   "execution_count": 10,
   "metadata": {
    "collapsed": false
   },
   "outputs": [
    {
     "name": "stdout",
     "output_type": "stream",
     "text": [
      "(14480, 18)\n",
      "(14480,)\n",
      "(7133, 18)\n",
      "(7133,)\n"
     ]
    }
   ],
   "source": [
    "print X_train.shape\n",
    "print y_train.shape\n",
    "print X_test.shape\n",
    "print y_test.shape"
   ]
  },
  {
   "cell_type": "markdown",
   "metadata": {},
   "source": [
    "## Gradient boosting"
   ]
  },
  {
   "cell_type": "code",
   "execution_count": 11,
   "metadata": {
    "collapsed": false
   },
   "outputs": [
    {
     "data": {
      "text/plain": [
       "GradientBoostingRegressor(alpha=0.9, criterion='friedman_mse', init=None,\n",
       "             learning_rate=0.1, loss='ls', max_depth=3, max_features=None,\n",
       "             max_leaf_nodes=None, min_impurity_split=1e-07,\n",
       "             min_samples_leaf=1, min_samples_split=2,\n",
       "             min_weight_fraction_leaf=0.0, n_estimators=100,\n",
       "             presort='auto', random_state=0, subsample=1.0, verbose=0,\n",
       "             warm_start=False)"
      ]
     },
     "execution_count": 11,
     "metadata": {},
     "output_type": "execute_result"
    }
   ],
   "source": [
    "from sklearn.ensemble import GradientBoostingRegressor\n",
    "gb = GradientBoostingRegressor(random_state=0)\n",
    "gb.fit(X_train, y_train)"
   ]
  },
  {
   "cell_type": "code",
   "execution_count": 12,
   "metadata": {
    "collapsed": false
   },
   "outputs": [
    {
     "name": "stdout",
     "output_type": "stream",
     "text": [
      "Root mean squared error: 145482.858460\n",
      "Variance score: 0.858645\n"
     ]
    }
   ],
   "source": [
    "print(\"Root mean squared error: %.6f\"\n",
    "      % np.sqrt(np.mean((gb.predict(X_test) - y_test) ** 2)))\n",
    "print('Variance score: %.6f' % gb.score(X_test, y_test))"
   ]
  },
  {
   "cell_type": "code",
   "execution_count": 13,
   "metadata": {
    "collapsed": false
   },
   "outputs": [
    {
     "name": "stdout",
     "output_type": "stream",
     "text": [
      "                 lat  | coef: 0.206506\n",
      "         sqft_living  | coef: 0.124295\n",
      "                long  | coef: 0.094699\n",
      "               grade  | coef: 0.087567\n",
      "             zipcode  | coef: 0.084033\n",
      "       sqft_living15  | coef: 0.067524\n",
      "            yr_built  | coef: 0.051525\n",
      "          sqft_above  | coef: 0.045686\n",
      "            sqft_lot  | coef: 0.042790\n",
      "                view  | coef: 0.033282\n",
      "          waterfront  | coef: 0.032690\n",
      "        yr_renovated  | coef: 0.029360\n",
      "       sqft_basement  | coef: 0.028949\n",
      "           bathrooms  | coef: 0.028093\n",
      "           condition  | coef: 0.021530\n",
      "          sqft_lot15  | coef: 0.013708\n",
      "            bedrooms  | coef: 0.007763\n",
      "              floors  | coef: 0.000000\n"
     ]
    }
   ],
   "source": [
    "for c, i in sorted(zip(gb.feature_importances_, features[1:]), reverse=True):\n",
    "     print (\"% 20s  | coef: %.6f\" % (i, c))"
   ]
  },
  {
   "cell_type": "markdown",
   "metadata": {},
   "source": [
    "### Tuning the parameters for gradient boosting"
   ]
  },
  {
   "cell_type": "code",
   "execution_count": 14,
   "metadata": {
    "collapsed": true
   },
   "outputs": [],
   "source": [
    "learning_rate_arr = list(np.arange(0.08, 0.141, 0.005))\n",
    "n_estimators_arr = list(np.arange(100, 701, 50))\n",
    "subsample_arr = [0.7, 0.8, 0.85, 0.9, 0.95, 1]\n",
    "max_feature_arr = ['log2', 'sqrt', 'auto']\n",
    "\n",
    "minRMSE = float('inf')\n",
    "bestParameter = dict()\n",
    "\n",
    "for l in range(len(learning_rate_arr)):\n",
    "    for n in range(len(n_estimators_arr)):\n",
    "        for s in range(len(subsample_arr)):\n",
    "            for m in range(len(max_feature_arr)):\n",
    "                gbr = GradientBoostingRegressor(learning_rate = learning_rate_arr[l], \\\n",
    "                                                                n_estimators = n_estimators_arr[n], \\\n",
    "                                                                subsample = subsample_arr[s], \\\n",
    "                                                                max_features = max_feature_arr[m])\n",
    "                gbr.fit(X_train, y_train)\n",
    "                RMSE = np.sqrt(np.mean((gbr.predict(X_test) - y_test) ** 2))\n",
    "                #print (RMSE)\n",
    "                if RMSE < minRMSE: \n",
    "                    minRMSE = RMSE\n",
    "                    bestParameter = {'learning_rate' : learning_rate_arr[l], \\\n",
    "                                     'n_estimators' : n_estimators_arr[n], \\\n",
    "                                     'subsample' : subsample_arr[s], \\\n",
    "                                     'max_feature' : max_feature_arr[m]       \n",
    "                                    }"
   ]
  },
  {
   "cell_type": "code",
   "execution_count": 41,
   "metadata": {
    "collapsed": false
   },
   "outputs": [
    {
     "name": "stdout",
     "output_type": "stream",
     "text": [
      "{'n_estimators': 650, 'subsample': 0.8, 'learning_rate': 0.13500000000000006, 'max_feature': 'auto'}\n"
     ]
    }
   ],
   "source": [
    "print bestParameter"
   ]
  },
  {
   "cell_type": "code",
   "execution_count": 45,
   "metadata": {
    "collapsed": false
   },
   "outputs": [
    {
     "name": "stdout",
     "output_type": "stream",
     "text": [
      "125784.505942\n"
     ]
    }
   ],
   "source": [
    "print minRMSE"
   ]
  },
  {
   "cell_type": "code",
   "execution_count": 17,
   "metadata": {
    "collapsed": false
   },
   "outputs": [
    {
     "name": "stdout",
     "output_type": "stream",
     "text": [
      "544755.309968\n",
      "0.230900926784\n"
     ]
    }
   ],
   "source": [
    "price_mean= y_test.mean()\n",
    "print (price_mean)\n",
    "print (minRMSE / price_mean)"
   ]
  },
  {
   "cell_type": "code",
   "execution_count": 61,
   "metadata": {
    "collapsed": false
   },
   "outputs": [
    {
     "data": {
      "text/plain": [
       "GradientBoostingRegressor(alpha=0.9, criterion='friedman_mse', init=None,\n",
       "             learning_rate=0.13500000000000006, loss='ls', max_depth=3,\n",
       "             max_features='auto', max_leaf_nodes=None,\n",
       "             min_impurity_split=1e-07, min_samples_leaf=1,\n",
       "             min_samples_split=2, min_weight_fraction_leaf=0.0,\n",
       "             n_estimators=650, presort='auto', random_state=0,\n",
       "             subsample=0.8, verbose=0, warm_start=False)"
      ]
     },
     "execution_count": 61,
     "metadata": {},
     "output_type": "execute_result"
    }
   ],
   "source": [
    "best_gb = GradientBoostingRegressor(learning_rate = bestParameter['learning_rate'], \\\n",
    "                                       n_estimators = bestParameter['n_estimators'], \\\n",
    "                                       subsample = bestParameter['subsample'], \\\n",
    "                                       max_features = bestParameter['max_feature'],\n",
    "                                   random_state=0)\n",
    "best_gb.fit(X_train, y_train)"
   ]
  },
  {
   "cell_type": "code",
   "execution_count": 62,
   "metadata": {
    "collapsed": false
   },
   "outputs": [
    {
     "name": "stdout",
     "output_type": "stream",
     "text": [
      "Root mean squared error: 132595.359095\n",
      "Variance score: 0.882580\n"
     ]
    }
   ],
   "source": [
    "print(\"Root mean squared error: %.6f\"\n",
    "      % np.sqrt(np.mean((best_gb.predict(X_test) - y_test) ** 2)))\n",
    "print('Variance score: %.6f' % best_gb.score(X_test, y_test))"
   ]
  },
  {
   "cell_type": "code",
   "execution_count": 63,
   "metadata": {
    "collapsed": false
   },
   "outputs": [
    {
     "name": "stdout",
     "output_type": "stream",
     "text": [
      "                 lat  | coef: 0.117181\n",
      "                long  | coef: 0.103081\n",
      "         sqft_living  | coef: 0.100341\n",
      "       sqft_living15  | coef: 0.096008\n",
      "          sqft_above  | coef: 0.094870\n",
      "             zipcode  | coef: 0.076633\n",
      "            sqft_lot  | coef: 0.073512\n",
      "          sqft_lot15  | coef: 0.054398\n",
      "            yr_built  | coef: 0.052590\n",
      "        yr_renovated  | coef: 0.045683\n",
      "               grade  | coef: 0.041248\n",
      "           bathrooms  | coef: 0.038227\n",
      "       sqft_basement  | coef: 0.036049\n",
      "                view  | coef: 0.027821\n",
      "           condition  | coef: 0.012669\n",
      "          waterfront  | coef: 0.010185\n",
      "            bedrooms  | coef: 0.009958\n",
      "              floors  | coef: 0.009546\n"
     ]
    }
   ],
   "source": [
    "for c, i in sorted(zip(best_gb.feature_importances_, features[1:]), reverse=True):\n",
    "     print (\"% 20s  | coef: %.6f\" % (i, c))"
   ]
  },
  {
   "cell_type": "code",
   "execution_count": 51,
   "metadata": {
    "collapsed": false
   },
   "outputs": [
    {
     "data": {
      "image/png": "[encoded data removed]",
      "text/plain": [
       "<matplotlib.figure.Figure at 0x196089a90>"
      ]
     },
     "metadata": {},
     "output_type": "display_data"
    }
   ],
   "source": [
    "feature_importance = best_gb.feature_importances_\n",
    "# make importances relative to max importance\n",
    "feature_importance = 100.0 * (feature_importance / feature_importance.max())\n",
    "sorted_idx = np.argsort(feature_importance)\n",
    "pos = np.arange(sorted_idx.shape[0]) + .5\n",
    "plt.subplot(1, 2, 2)\n",
    "plt.barh(pos, feature_importance[sorted_idx], align='center')\n",
    "plt.yticks(pos, X_train.columns[sorted_idx])\n",
    "plt.xlabel('Relative Importance')\n",
    "plt.title('Variable Importance')\n",
    "plt.show()"
   ]
  },
  {
   "cell_type": "markdown",
   "metadata": {},
   "source": [
    "## Random forest"
   ]
  },
  {
   "cell_type": "code",
   "execution_count": 18,
   "metadata": {
    "collapsed": false
   },
   "outputs": [
    {
     "data": {
      "text/plain": [
       "RandomForestRegressor(bootstrap=True, criterion='mse', max_depth=None,\n",
       "           max_features='auto', max_leaf_nodes=None,\n",
       "           min_impurity_split=1e-07, min_samples_leaf=1,\n",
       "           min_samples_split=2, min_weight_fraction_leaf=0.0,\n",
       "           n_estimators=10, n_jobs=1, oob_score=False, random_state=0,\n",
       "           verbose=0, warm_start=False)"
      ]
     },
     "execution_count": 18,
     "metadata": {},
     "output_type": "execute_result"
    }
   ],
   "source": [
    "from sklearn.ensemble import RandomForestRegressor\n",
    "rfr = RandomForestRegressor(random_state=0)\n",
    "rfr.fit(X_train, y_train)"
   ]
  },
  {
   "cell_type": "code",
   "execution_count": 19,
   "metadata": {
    "collapsed": false
   },
   "outputs": [
    {
     "name": "stdout",
     "output_type": "stream",
     "text": [
      "Root mean squared error: 155956.031505\n",
      "Variance score: 0.837561\n"
     ]
    }
   ],
   "source": [
    "print(\"Root mean squared error: %.6f\"\n",
    "      % np.sqrt(np.mean((rfr.predict(X_test) - y_test) ** 2)))\n",
    "print('Variance score: %.6f' % rfr.score(X_test, y_test))"
   ]
  },
  {
   "cell_type": "code",
   "execution_count": 20,
   "metadata": {
    "collapsed": false
   },
   "outputs": [
    {
     "name": "stdout",
     "output_type": "stream",
     "text": [
      "               grade  | coef: 0.327045\n",
      "         sqft_living  | coef: 0.230381\n",
      "                 lat  | coef: 0.146202\n",
      "                long  | coef: 0.067514\n",
      "            yr_built  | coef: 0.038474\n",
      "          waterfront  | coef: 0.034655\n",
      "       sqft_living15  | coef: 0.034580\n",
      "           bathrooms  | coef: 0.027801\n",
      "          sqft_above  | coef: 0.019843\n",
      "            sqft_lot  | coef: 0.015218\n",
      "             zipcode  | coef: 0.014587\n",
      "          sqft_lot15  | coef: 0.011647\n",
      "                view  | coef: 0.010492\n",
      "        yr_renovated  | coef: 0.008752\n",
      "       sqft_basement  | coef: 0.005094\n",
      "           condition  | coef: 0.003002\n",
      "            bedrooms  | coef: 0.002649\n",
      "              floors  | coef: 0.002063\n"
     ]
    }
   ],
   "source": [
    "for c, i in sorted(zip(rfr.feature_importances_, features[1:]), reverse=True):\n",
    "     print (\"% 20s  | coef: %.6f\" % (i, c))"
   ]
  },
  {
   "cell_type": "markdown",
   "metadata": {},
   "source": [
    "### Tuning the parameters for random forest"
   ]
  },
  {
   "cell_type": "code",
   "execution_count": 36,
   "metadata": {
    "collapsed": false
   },
   "outputs": [],
   "source": [
    "rf_n_estimators_arr = list(np.arange(1, 11))\n",
    "for i in range(10):\n",
    "    rf_n_estimators_arr[i] = pow(2, rf_n_estimators_arr[i])\n",
    "\n",
    "rf_max_feature_arr = ['log2', 'sqrt', 'auto']\n",
    "\n",
    "rf_minRMSE = float('inf')\n",
    "rf_bestParameter = dict()\n",
    "\n",
    "rf_n_estimators_RMSE_auto = []\n",
    "\n",
    "\n",
    "for m in range(len(rf_max_feature_arr)):\n",
    "    for n in range(len(rf_n_estimators_arr)):\n",
    "            regForest = RandomForestRegressor(n_estimators = rf_n_estimators_arr[n], \\\n",
    "                                              max_features = rf_max_feature_arr[m])\n",
    "            regForest.fit(X_train, y_train)\n",
    "            RMSE = np.sqrt(np.mean((regForest.predict(X_test) - y_test) ** 2))\n",
    "            if RMSE < rf_minRMSE: \n",
    "                rf_minRMSE = RMSE\n",
    "                rf_bestParameter = {'n_estimators' : rf_n_estimators_arr[n], \\\n",
    "                                    'max_feature' : rf_max_feature_arr[m]       \n",
    "                                    }                \n",
    "            if rf_max_feature_arr[m] == 'auto': \n",
    "                    rf_n_estimators_RMSE_auto.append(RMSE)"
   ]
  },
  {
   "cell_type": "code",
   "execution_count": 37,
   "metadata": {
    "collapsed": false
   },
   "outputs": [
    {
     "name": "stdout",
     "output_type": "stream",
     "text": [
      "146359.534534\n",
      "{'n_estimators': 512, 'max_feature': 'auto'}\n"
     ]
    }
   ],
   "source": [
    "print(rf_minRMSE)\n",
    "print(rf_bestParameter)"
   ]
  },
  {
   "cell_type": "code",
   "execution_count": 38,
   "metadata": {
    "collapsed": false
   },
   "outputs": [
    {
     "name": "stdout",
     "output_type": "stream",
     "text": [
      "0.268670230204\n"
     ]
    }
   ],
   "source": [
    "print (rf_minRMSE / price_mean)"
   ]
  },
  {
   "cell_type": "code",
   "execution_count": 64,
   "metadata": {
    "collapsed": false
   },
   "outputs": [
    {
     "data": {
      "text/plain": [
       "RandomForestRegressor(bootstrap=True, criterion='mse', max_depth=None,\n",
       "           max_features='auto', max_leaf_nodes=None,\n",
       "           min_impurity_split=1e-07, min_samples_leaf=1,\n",
       "           min_samples_split=2, min_weight_fraction_leaf=0.0,\n",
       "           n_estimators=512, n_jobs=1, oob_score=False, random_state=0,\n",
       "           verbose=0, warm_start=False)"
      ]
     },
     "execution_count": 64,
     "metadata": {},
     "output_type": "execute_result"
    }
   ],
   "source": [
    "best_rf = regForest = RandomForestRegressor(n_estimators = rf_bestParameter['n_estimators'], \\\n",
    "                                            max_features = rf_bestParameter['max_feature'],\n",
    "                                           random_state=0)\n",
    "best_rf.fit(X_train, y_train)"
   ]
  },
  {
   "cell_type": "code",
   "execution_count": 65,
   "metadata": {
    "collapsed": false
   },
   "outputs": [
    {
     "name": "stdout",
     "output_type": "stream",
     "text": [
      "Root mean squared error: 146337.199049\n",
      "Variance score: 0.856980\n"
     ]
    }
   ],
   "source": [
    "print(\"Root mean squared error: %.6f\"\n",
    "      % np.sqrt(np.mean((best_rf.predict(X_test) - y_test) ** 2)))\n",
    "print('Variance score: %.6f' % best_rf.score(X_test, y_test))"
   ]
  },
  {
   "cell_type": "code",
   "execution_count": 66,
   "metadata": {
    "collapsed": false
   },
   "outputs": [
    {
     "name": "stdout",
     "output_type": "stream",
     "text": [
      "               grade  | coef: 0.340315\n",
      "         sqft_living  | coef: 0.238612\n",
      "                 lat  | coef: 0.147222\n",
      "                long  | coef: 0.068294\n",
      "            yr_built  | coef: 0.032496\n",
      "       sqft_living15  | coef: 0.031730\n",
      "          waterfront  | coef: 0.030566\n",
      "          sqft_above  | coef: 0.019512\n",
      "           bathrooms  | coef: 0.017651\n",
      "             zipcode  | coef: 0.014142\n",
      "            sqft_lot  | coef: 0.013835\n",
      "          sqft_lot15  | coef: 0.012899\n",
      "                view  | coef: 0.010048\n",
      "        yr_renovated  | coef: 0.008136\n",
      "       sqft_basement  | coef: 0.006472\n",
      "            bedrooms  | coef: 0.003213\n",
      "           condition  | coef: 0.002905\n",
      "              floors  | coef: 0.001950\n"
     ]
    }
   ],
   "source": [
    "for c, i in sorted(zip(best_rf.feature_importances_, features[1:]), reverse=True):\n",
    "     print (\"% 20s  | coef: %.6f\" % (i, c))"
   ]
  },
  {
   "cell_type": "code",
   "execution_count": 67,
   "metadata": {
    "collapsed": false
   },
   "outputs": [
    {
     "data": {
      "image/png": "[encoded data removed]",
      "text/plain": [
       "<matplotlib.figure.Figure at 0x196008910>"
      ]
     },
     "metadata": {},
     "output_type": "display_data"
    }
   ],
   "source": [
    "rf_feature_importance = best_rf.feature_importances_\n",
    "# make importances relative to max importance\n",
    "rf_feature_importance = 100.0 * (rf_feature_importance / rf_feature_importance.max())\n",
    "sorted_idx = np.argsort(rf_feature_importance)\n",
    "pos = np.arange(sorted_idx.shape[0]) + .5\n",
    "plt.subplot(1, 2, 2)\n",
    "plt.barh(pos, rf_feature_importance[sorted_idx], align='center')\n",
    "plt.yticks(pos, X_train.columns[sorted_idx])\n",
    "plt.xlabel('Relative Importance')\n",
    "plt.title('Variable Importance')\n",
    "plt.show()"
   ]
  },
  {
   "cell_type": "code",
   "execution_count": null,
   "metadata": {
    "collapsed": true
   },
   "outputs": [],
   "source": []
  }
 ],
 "metadata": {
  "anaconda-cloud": {},
  "kernelspec": {
   "display_name": "Python [conda root]",
   "language": "python",
   "name": "conda-root-py"
  },
  "language_info": {
   "codemirror_mode": {
    "name": "ipython",
    "version": 2
   },
   "file_extension": ".py",
   "mimetype": "text/x-python",
   "name": "python",
   "nbconvert_exporter": "python",
   "pygments_lexer": "ipython2",
   "version": "2.7.12"
  }
 },
 "nbformat": 4,
 "nbformat_minor": 1
}
